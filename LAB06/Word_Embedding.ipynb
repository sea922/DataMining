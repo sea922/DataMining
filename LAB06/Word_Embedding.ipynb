{
 "cells": [
  {
   "cell_type": "markdown",
   "id": "4c8f09db",
   "metadata": {
    "papermill": {
     "duration": 0.005524,
     "end_time": "2023-03-06T14:10:38.100533",
     "exception": false,
     "start_time": "2023-03-06T14:10:38.095009",
     "status": "completed"
    },
    "tags": []
   },
   "source": [
    "## **Table of Contents**\n",
    "* Import tools/libraries\n",
    "* Load data set\n",
    "* Target visualization\n",
    "* Text Cleaning\n",
    "* Remove Stopward\n",
    "* Stemming\n",
    "* TF-IDF model\n",
    "* Split data set\n",
    "* Logistic regression Model\n",
    "* NB model\n",
    "* Stochastic Gradient Descent"
   ]
  },
  {
   "cell_type": "markdown",
   "id": "8738eaa1",
   "metadata": {
    "papermill": {
     "duration": 0.005644,
     "end_time": "2023-03-06T14:10:38.111773",
     "exception": false,
     "start_time": "2023-03-06T14:10:38.106129",
     "status": "completed"
    },
    "tags": []
   },
   "source": [
    "### **All the necessary tools/libraries**\n",
    "All the tools that help us to complete this task."
   ]
  },
  {
   "cell_type": "code",
   "execution_count": 1,
   "id": "34717fc9",
   "metadata": {
    "execution": {
     "iopub.execute_input": "2023-03-06T14:10:38.130698Z",
     "iopub.status.busy": "2023-03-06T14:10:38.125184Z",
     "iopub.status.idle": "2023-03-06T14:10:50.757261Z",
     "shell.execute_reply": "2023-03-06T14:10:50.756235Z"
    },
    "papermill": {
     "duration": 12.642784,
     "end_time": "2023-03-06T14:10:50.760163",
     "exception": false,
     "start_time": "2023-03-06T14:10:38.117379",
     "status": "completed"
    },
    "tags": []
   },
   "outputs": [
    {
     "name": "stdout",
     "output_type": "stream",
     "text": [
      "/kaggle/input/quora-insincere-questions-classification/sample_submission.csv\n",
      "/kaggle/input/quora-insincere-questions-classification/embeddings.zip\n",
      "/kaggle/input/quora-insincere-questions-classification/train.csv\n",
      "/kaggle/input/quora-insincere-questions-classification/test.csv\n",
      "/kaggle/input/fake-and-real-news-dataset/True.csv\n",
      "/kaggle/input/fake-and-real-news-dataset/Fake.csv\n",
      "/kaggle/input/sentiment140/training.1600000.processed.noemoticon.csv\n"
     ]
    }
   ],
   "source": [
    "import re\n",
    "import string\n",
    "import numpy as np \n",
    "import random\n",
    "import pandas as pd \n",
    "import matplotlib.pyplot as plt\n",
    "import seaborn as sns\n",
    "%matplotlib inline\n",
    "from wordcloud import WordCloud, STOPWORDS, ImageColorGenerator\n",
    "import nltk\n",
    "from nltk.corpus import stopwords\n",
    "from nltk.tokenize import word_tokenize\n",
    "import os\n",
    "import spacy\n",
    "import random\n",
    "from spacy.util import compounding\n",
    "from spacy.util import minibatch\n",
    "from collections import defaultdict\n",
    "from collections import Counter\n",
    "import keras\n",
    "from keras.models import Sequential\n",
    "from keras.initializers import Constant\n",
    "from keras.layers import (LSTM, \n",
    "                          Embedding, \n",
    "                          BatchNormalization,\n",
    "                          Dense, \n",
    "                          TimeDistributed, \n",
    "                          Dropout, \n",
    "                          Bidirectional,\n",
    "                          Flatten, \n",
    "                          GlobalMaxPool1D)\n",
    "from keras.preprocessing.text import Tokenizer\n",
    "from keras.preprocessing.sequence import pad_sequences\n",
    "from keras.layers.embeddings import Embedding\n",
    "from keras.callbacks import ModelCheckpoint, ReduceLROnPlateau\n",
    "\n",
    "from sklearn.metrics import (\n",
    "    precision_score, \n",
    "    recall_score, \n",
    "    f1_score, \n",
    "    classification_report,\n",
    "    accuracy_score\n",
    ")\n",
    "import os\n",
    "for dirname, _, filenames in os.walk('/kaggle/input'):\n",
    "    for filename in filenames:\n",
    "        print(os.path.join(dirname, filename))\n",
    "\n"
   ]
  },
  {
   "cell_type": "markdown",
   "id": "196afcc7",
   "metadata": {
    "papermill": {
     "duration": 0.005593,
     "end_time": "2023-03-06T14:10:50.771759",
     "exception": false,
     "start_time": "2023-03-06T14:10:50.766166",
     "status": "completed"
    },
    "tags": []
   },
   "source": [
    "### **Load data set**\n",
    "This data set contain 6 columns but for text classification we need just two columns namely 1st columns and last columns. The columns name for this data set is not clear, so to fixed it we change the columns name."
   ]
  },
  {
   "cell_type": "code",
   "execution_count": 2,
   "id": "78c943d7",
   "metadata": {
    "execution": {
     "iopub.execute_input": "2023-03-06T14:10:50.786586Z",
     "iopub.status.busy": "2023-03-06T14:10:50.785409Z",
     "iopub.status.idle": "2023-03-06T14:10:57.243925Z",
     "shell.execute_reply": "2023-03-06T14:10:57.243021Z"
    },
    "papermill": {
     "duration": 6.467251,
     "end_time": "2023-03-06T14:10:57.246022",
     "exception": false,
     "start_time": "2023-03-06T14:10:50.778771",
     "status": "completed"
    },
    "tags": []
   },
   "outputs": [
    {
     "data": {
      "text/html": [
       "<div>\n",
       "<style scoped>\n",
       "    .dataframe tbody tr th:only-of-type {\n",
       "        vertical-align: middle;\n",
       "    }\n",
       "\n",
       "    .dataframe tbody tr th {\n",
       "        vertical-align: top;\n",
       "    }\n",
       "\n",
       "    .dataframe thead th {\n",
       "        text-align: right;\n",
       "    }\n",
       "</style>\n",
       "<table border=\"1\" class=\"dataframe\">\n",
       "  <thead>\n",
       "    <tr style=\"text-align: right;\">\n",
       "      <th></th>\n",
       "      <th>sentiment</th>\n",
       "      <th>ids</th>\n",
       "      <th>date</th>\n",
       "      <th>flag</th>\n",
       "      <th>user</th>\n",
       "      <th>text</th>\n",
       "    </tr>\n",
       "  </thead>\n",
       "  <tbody>\n",
       "    <tr>\n",
       "      <th>0</th>\n",
       "      <td>0</td>\n",
       "      <td>1467810369</td>\n",
       "      <td>Mon Apr 06 22:19:45 PDT 2009</td>\n",
       "      <td>NO_QUERY</td>\n",
       "      <td>_TheSpecialOne_</td>\n",
       "      <td>@switchfoot http://twitpic.com/2y1zl - Awww, t...</td>\n",
       "    </tr>\n",
       "    <tr>\n",
       "      <th>1</th>\n",
       "      <td>0</td>\n",
       "      <td>1467810672</td>\n",
       "      <td>Mon Apr 06 22:19:49 PDT 2009</td>\n",
       "      <td>NO_QUERY</td>\n",
       "      <td>scotthamilton</td>\n",
       "      <td>is upset that he can't update his Facebook by ...</td>\n",
       "    </tr>\n",
       "    <tr>\n",
       "      <th>2</th>\n",
       "      <td>0</td>\n",
       "      <td>1467810917</td>\n",
       "      <td>Mon Apr 06 22:19:53 PDT 2009</td>\n",
       "      <td>NO_QUERY</td>\n",
       "      <td>mattycus</td>\n",
       "      <td>@Kenichan I dived many times for the ball. Man...</td>\n",
       "    </tr>\n",
       "    <tr>\n",
       "      <th>3</th>\n",
       "      <td>0</td>\n",
       "      <td>1467811184</td>\n",
       "      <td>Mon Apr 06 22:19:57 PDT 2009</td>\n",
       "      <td>NO_QUERY</td>\n",
       "      <td>ElleCTF</td>\n",
       "      <td>my whole body feels itchy and like its on fire</td>\n",
       "    </tr>\n",
       "    <tr>\n",
       "      <th>4</th>\n",
       "      <td>0</td>\n",
       "      <td>1467811193</td>\n",
       "      <td>Mon Apr 06 22:19:57 PDT 2009</td>\n",
       "      <td>NO_QUERY</td>\n",
       "      <td>Karoli</td>\n",
       "      <td>@nationwideclass no, it's not behaving at all....</td>\n",
       "    </tr>\n",
       "  </tbody>\n",
       "</table>\n",
       "</div>"
      ],
      "text/plain": [
       "   sentiment         ids                          date      flag  \\\n",
       "0          0  1467810369  Mon Apr 06 22:19:45 PDT 2009  NO_QUERY   \n",
       "1          0  1467810672  Mon Apr 06 22:19:49 PDT 2009  NO_QUERY   \n",
       "2          0  1467810917  Mon Apr 06 22:19:53 PDT 2009  NO_QUERY   \n",
       "3          0  1467811184  Mon Apr 06 22:19:57 PDT 2009  NO_QUERY   \n",
       "4          0  1467811193  Mon Apr 06 22:19:57 PDT 2009  NO_QUERY   \n",
       "\n",
       "              user                                               text  \n",
       "0  _TheSpecialOne_  @switchfoot http://twitpic.com/2y1zl - Awww, t...  \n",
       "1    scotthamilton  is upset that he can't update his Facebook by ...  \n",
       "2         mattycus  @Kenichan I dived many times for the ball. Man...  \n",
       "3          ElleCTF    my whole body feels itchy and like its on fire   \n",
       "4           Karoli  @nationwideclass no, it's not behaving at all....  "
      ]
     },
     "execution_count": 2,
     "metadata": {},
     "output_type": "execute_result"
    }
   ],
   "source": [
    "columns  = [\"sentiment\", \"ids\", \"date\", \"flag\", \"user\", \"text\"]\n",
    "data = pd.read_csv(\"/kaggle/input/sentiment140/training.1600000.processed.noemoticon.csv\", encoding = \"ISO-8859-1\", names = columns)\n",
    "data.head()"
   ]
  },
  {
   "cell_type": "markdown",
   "id": "ecce7196",
   "metadata": {
    "papermill": {
     "duration": 0.005814,
     "end_time": "2023-03-06T14:10:57.258127",
     "exception": false,
     "start_time": "2023-03-06T14:10:57.252313",
     "status": "completed"
    },
    "tags": []
   },
   "source": [
    "As we work on only two columns namely sentiment and text so we can separate thoes two columns."
   ]
  },
  {
   "cell_type": "code",
   "execution_count": 3,
   "id": "b0812337",
   "metadata": {
    "execution": {
     "iopub.execute_input": "2023-03-06T14:10:57.271852Z",
     "iopub.status.busy": "2023-03-06T14:10:57.271094Z",
     "iopub.status.idle": "2023-03-06T14:10:57.311386Z",
     "shell.execute_reply": "2023-03-06T14:10:57.310327Z"
    },
    "papermill": {
     "duration": 0.049543,
     "end_time": "2023-03-06T14:10:57.313654",
     "exception": false,
     "start_time": "2023-03-06T14:10:57.264111",
     "status": "completed"
    },
    "tags": []
   },
   "outputs": [
    {
     "data": {
      "text/html": [
       "<div>\n",
       "<style scoped>\n",
       "    .dataframe tbody tr th:only-of-type {\n",
       "        vertical-align: middle;\n",
       "    }\n",
       "\n",
       "    .dataframe tbody tr th {\n",
       "        vertical-align: top;\n",
       "    }\n",
       "\n",
       "    .dataframe thead th {\n",
       "        text-align: right;\n",
       "    }\n",
       "</style>\n",
       "<table border=\"1\" class=\"dataframe\">\n",
       "  <thead>\n",
       "    <tr style=\"text-align: right;\">\n",
       "      <th></th>\n",
       "      <th>sentiment</th>\n",
       "      <th>text</th>\n",
       "    </tr>\n",
       "  </thead>\n",
       "  <tbody>\n",
       "    <tr>\n",
       "      <th>0</th>\n",
       "      <td>0</td>\n",
       "      <td>@switchfoot http://twitpic.com/2y1zl - Awww, t...</td>\n",
       "    </tr>\n",
       "    <tr>\n",
       "      <th>1</th>\n",
       "      <td>0</td>\n",
       "      <td>is upset that he can't update his Facebook by ...</td>\n",
       "    </tr>\n",
       "    <tr>\n",
       "      <th>2</th>\n",
       "      <td>0</td>\n",
       "      <td>@Kenichan I dived many times for the ball. Man...</td>\n",
       "    </tr>\n",
       "    <tr>\n",
       "      <th>3</th>\n",
       "      <td>0</td>\n",
       "      <td>my whole body feels itchy and like its on fire</td>\n",
       "    </tr>\n",
       "    <tr>\n",
       "      <th>4</th>\n",
       "      <td>0</td>\n",
       "      <td>@nationwideclass no, it's not behaving at all....</td>\n",
       "    </tr>\n",
       "  </tbody>\n",
       "</table>\n",
       "</div>"
      ],
      "text/plain": [
       "   sentiment                                               text\n",
       "0          0  @switchfoot http://twitpic.com/2y1zl - Awww, t...\n",
       "1          0  is upset that he can't update his Facebook by ...\n",
       "2          0  @Kenichan I dived many times for the ball. Man...\n",
       "3          0    my whole body feels itchy and like its on fire \n",
       "4          0  @nationwideclass no, it's not behaving at all...."
      ]
     },
     "execution_count": 3,
     "metadata": {},
     "output_type": "execute_result"
    }
   ],
   "source": [
    "data = data[['sentiment','text']]\n",
    "data.head()"
   ]
  },
  {
   "cell_type": "markdown",
   "id": "26bac8f7",
   "metadata": {
    "papermill": {
     "duration": 0.005877,
     "end_time": "2023-03-06T14:10:57.325768",
     "exception": false,
     "start_time": "2023-03-06T14:10:57.319891",
     "status": "completed"
    },
    "tags": []
   },
   "source": [
    "### **Target visualization**\n",
    "our target is sentiment, and we have to predict when it is positive or negative. So, as our data set contain 0 and 4 so we need to replace thoes value as negative and possitive, and later we will encode thoes values as 0 and 1."
   ]
  },
  {
   "cell_type": "code",
   "execution_count": 4,
   "id": "75704b34",
   "metadata": {
    "execution": {
     "iopub.execute_input": "2023-03-06T14:10:57.338964Z",
     "iopub.status.busy": "2023-03-06T14:10:57.338682Z",
     "iopub.status.idle": "2023-03-06T14:10:57.875492Z",
     "shell.execute_reply": "2023-03-06T14:10:57.874461Z"
    },
    "papermill": {
     "duration": 0.545875,
     "end_time": "2023-03-06T14:10:57.877613",
     "exception": false,
     "start_time": "2023-03-06T14:10:57.331738",
     "status": "completed"
    },
    "tags": []
   },
   "outputs": [
    {
     "data": {
      "text/plain": [
       "<AxesSubplot:>"
      ]
     },
     "execution_count": 4,
     "metadata": {},
     "output_type": "execute_result"
    },
    {
     "data": {
      "image/png": "[encoded data removed]",
      "text/plain": [
       "<Figure size 432x288 with 1 Axes>"
      ]
     },
     "metadata": {
      "needs_background": "light"
     },
     "output_type": "display_data"
    }
   ],
   "source": [
    "class_dict = {0:'negative', 4:'positive'}\n",
    "data['sentiment'] = data['sentiment'].apply(lambda x:  class_dict[x])\n",
    "count = data['sentiment'].value_counts()\n",
    "count.plot(kind='bar')"
   ]
  },
  {
   "cell_type": "markdown",
   "id": "e1f53721",
   "metadata": {
    "papermill": {
     "duration": 0.008865,
     "end_time": "2023-03-06T14:10:57.893010",
     "exception": false,
     "start_time": "2023-03-06T14:10:57.884145",
     "status": "completed"
    },
    "tags": []
   },
   "source": [
    "### **Text Cleaning**\n",
    "Our data set is not clear, it contains uppercase, brackets, links, punctuation and so many things. We need to remove thoes things from our data. Here, we will use re library to fixed thoes things."
   ]
  },
  {
   "cell_type": "code",
   "execution_count": 5,
   "id": "c25fdeed",
   "metadata": {
    "execution": {
     "iopub.execute_input": "2023-03-06T14:10:57.913607Z",
     "iopub.status.busy": "2023-03-06T14:10:57.913279Z",
     "iopub.status.idle": "2023-03-06T14:10:57.919097Z",
     "shell.execute_reply": "2023-03-06T14:10:57.918153Z"
    },
    "papermill": {
     "duration": 0.016668,
     "end_time": "2023-03-06T14:10:57.921053",
     "exception": false,
     "start_time": "2023-03-06T14:10:57.904385",
     "status": "completed"
    },
    "tags": []
   },
   "outputs": [],
   "source": [
    "\n",
    "def clean_text(text):\n",
    "    text = str(text).lower()\n",
    "    text = re.sub('\\[.*?\\]', '', text)\n",
    "    text = re.sub('https?://\\S+|www\\.\\S+', '', text)\n",
    "    text = re.sub('<.*?>+', '', text)\n",
    "    text = re.sub('[%s]' % re.escape(string.punctuation), '', text)\n",
    "    text = re.sub('\\n', '', text)\n",
    "    text = re.sub('\\w*\\d\\w*', '', text)\n",
    "    return text"
   ]
  },
  {
   "cell_type": "code",
   "execution_count": 6,
   "id": "0be476c8",
   "metadata": {
    "execution": {
     "iopub.execute_input": "2023-03-06T14:10:57.935031Z",
     "iopub.status.busy": "2023-03-06T14:10:57.934769Z",
     "iopub.status.idle": "2023-03-06T14:11:25.331771Z",
     "shell.execute_reply": "2023-03-06T14:11:25.330789Z"
    },
    "papermill": {
     "duration": 27.406255,
     "end_time": "2023-03-06T14:11:25.333791",
     "exception": false,
     "start_time": "2023-03-06T14:10:57.927536",
     "status": "completed"
    },
    "tags": []
   },
   "outputs": [
    {
     "data": {
      "text/html": [
       "<div>\n",
       "<style scoped>\n",
       "    .dataframe tbody tr th:only-of-type {\n",
       "        vertical-align: middle;\n",
       "    }\n",
       "\n",
       "    .dataframe tbody tr th {\n",
       "        vertical-align: top;\n",
       "    }\n",
       "\n",
       "    .dataframe thead th {\n",
       "        text-align: right;\n",
       "    }\n",
       "</style>\n",
       "<table border=\"1\" class=\"dataframe\">\n",
       "  <thead>\n",
       "    <tr style=\"text-align: right;\">\n",
       "      <th></th>\n",
       "      <th>sentiment</th>\n",
       "      <th>text</th>\n",
       "    </tr>\n",
       "  </thead>\n",
       "  <tbody>\n",
       "    <tr>\n",
       "      <th>0</th>\n",
       "      <td>negative</td>\n",
       "      <td>switchfoot   awww thats a bummer  you shoulda ...</td>\n",
       "    </tr>\n",
       "    <tr>\n",
       "      <th>1</th>\n",
       "      <td>negative</td>\n",
       "      <td>is upset that he cant update his facebook by t...</td>\n",
       "    </tr>\n",
       "    <tr>\n",
       "      <th>2</th>\n",
       "      <td>negative</td>\n",
       "      <td>kenichan i dived many times for the ball manag...</td>\n",
       "    </tr>\n",
       "    <tr>\n",
       "      <th>3</th>\n",
       "      <td>negative</td>\n",
       "      <td>my whole body feels itchy and like its on fire</td>\n",
       "    </tr>\n",
       "    <tr>\n",
       "      <th>4</th>\n",
       "      <td>negative</td>\n",
       "      <td>nationwideclass no its not behaving at all im ...</td>\n",
       "    </tr>\n",
       "  </tbody>\n",
       "</table>\n",
       "</div>"
      ],
      "text/plain": [
       "  sentiment                                               text\n",
       "0  negative  switchfoot   awww thats a bummer  you shoulda ...\n",
       "1  negative  is upset that he cant update his facebook by t...\n",
       "2  negative  kenichan i dived many times for the ball manag...\n",
       "3  negative    my whole body feels itchy and like its on fire \n",
       "4  negative  nationwideclass no its not behaving at all im ..."
      ]
     },
     "execution_count": 6,
     "metadata": {},
     "output_type": "execute_result"
    }
   ],
   "source": [
    "data['text'] = data['text'].apply(clean_text)\n",
    "data.head()"
   ]
  },
  {
   "cell_type": "markdown",
   "id": "c8893380",
   "metadata": {
    "papermill": {
     "duration": 0.006404,
     "end_time": "2023-03-06T14:11:25.346855",
     "exception": false,
     "start_time": "2023-03-06T14:11:25.340451",
     "status": "completed"
    },
    "tags": []
   },
   "source": [
    "### **Remove Stopwords**\n",
    "In Natural Language Processing (NLP), stop words are commonly occurring words that are filtered out before or after processing of text data. Stop words are usually words that do not contribute much to the meaning of a sentence or document, and are therefore not considered useful for text analysis. Examples of stop words include \"the\", \"and\", \"a\", \"an\", \"in\", \"of\", \"is\", \"to\", \"that\", \"it\", and so on.Removing stop words from a text can help reduce the dimensionality of the dataset, which can make analysis more efficient and effective."
   ]
  },
  {
   "cell_type": "code",
   "execution_count": 7,
   "id": "ada57fdd",
   "metadata": {
    "execution": {
     "iopub.execute_input": "2023-03-06T14:11:25.361634Z",
     "iopub.status.busy": "2023-03-06T14:11:25.360699Z",
     "iopub.status.idle": "2023-03-06T14:12:13.981427Z",
     "shell.execute_reply": "2023-03-06T14:12:13.980456Z"
    },
    "papermill": {
     "duration": 48.637014,
     "end_time": "2023-03-06T14:12:13.990222",
     "exception": false,
     "start_time": "2023-03-06T14:11:25.353208",
     "status": "completed"
    },
    "tags": []
   },
   "outputs": [
    {
     "data": {
      "text/html": [
       "<div>\n",
       "<style scoped>\n",
       "    .dataframe tbody tr th:only-of-type {\n",
       "        vertical-align: middle;\n",
       "    }\n",
       "\n",
       "    .dataframe tbody tr th {\n",
       "        vertical-align: top;\n",
       "    }\n",
       "\n",
       "    .dataframe thead th {\n",
       "        text-align: right;\n",
       "    }\n",
       "</style>\n",
       "<table border=\"1\" class=\"dataframe\">\n",
       "  <thead>\n",
       "    <tr style=\"text-align: right;\">\n",
       "      <th></th>\n",
       "      <th>sentiment</th>\n",
       "      <th>text</th>\n",
       "    </tr>\n",
       "  </thead>\n",
       "  <tbody>\n",
       "    <tr>\n",
       "      <th>0</th>\n",
       "      <td>negative</td>\n",
       "      <td>switchfoot   awww thats bummer  shoulda got da...</td>\n",
       "    </tr>\n",
       "    <tr>\n",
       "      <th>1</th>\n",
       "      <td>negative</td>\n",
       "      <td>upset cant update facebook texting might cry r...</td>\n",
       "    </tr>\n",
       "    <tr>\n",
       "      <th>2</th>\n",
       "      <td>negative</td>\n",
       "      <td>kenichan dived many times ball managed save   ...</td>\n",
       "    </tr>\n",
       "    <tr>\n",
       "      <th>3</th>\n",
       "      <td>negative</td>\n",
       "      <td>whole body feels itchy like fire</td>\n",
       "    </tr>\n",
       "    <tr>\n",
       "      <th>4</th>\n",
       "      <td>negative</td>\n",
       "      <td>nationwideclass behaving im mad cant see</td>\n",
       "    </tr>\n",
       "  </tbody>\n",
       "</table>\n",
       "</div>"
      ],
      "text/plain": [
       "  sentiment                                               text\n",
       "0  negative  switchfoot   awww thats bummer  shoulda got da...\n",
       "1  negative  upset cant update facebook texting might cry r...\n",
       "2  negative  kenichan dived many times ball managed save   ...\n",
       "3  negative                  whole body feels itchy like fire \n",
       "4  negative          nationwideclass behaving im mad cant see "
      ]
     },
     "execution_count": 7,
     "metadata": {},
     "output_type": "execute_result"
    }
   ],
   "source": [
    "stop_words = stopwords.words('english')\n",
    "\n",
    "def remove_stopwords(text):\n",
    "    text = ' '.join(word for word in text.split(' ') if word not in stop_words)\n",
    "    return text\n",
    "    \n",
    "data['text'] = data['text'].apply(remove_stopwords)\n",
    "data.head()"
   ]
  },
  {
   "cell_type": "markdown",
   "id": "53609cec",
   "metadata": {
    "papermill": {
     "duration": 0.006566,
     "end_time": "2023-03-06T14:12:14.003650",
     "exception": false,
     "start_time": "2023-03-06T14:12:13.997084",
     "status": "completed"
    },
    "tags": []
   },
   "source": [
    "### **Stemming**\n",
    "Stemming is a technique used in natural language processing (NLP) to reduce words to their base or root form, which is called the stem. The goal of stemming is to reduce the inflectional and derivational forms of words to a common base form, which can simplify text analysis and improve the accuracy of text-based applications such as search engines, sentiment analysis, and text classification.\n",
    "\n",
    "For example, the words \"running\", \"runs\", and \"ran\" can be reduced to their stem \"run\", which can help to identify them as variants of the same word and thus improve the accuracy of analysis."
   ]
  },
  {
   "cell_type": "code",
   "execution_count": 8,
   "id": "ef298a10",
   "metadata": {
    "execution": {
     "iopub.execute_input": "2023-03-06T14:12:14.018791Z",
     "iopub.status.busy": "2023-03-06T14:12:14.018194Z",
     "iopub.status.idle": "2023-03-06T14:14:58.689352Z",
     "shell.execute_reply": "2023-03-06T14:14:58.688404Z"
    },
    "papermill": {
     "duration": 164.688053,
     "end_time": "2023-03-06T14:14:58.698369",
     "exception": false,
     "start_time": "2023-03-06T14:12:14.010316",
     "status": "completed"
    },
    "tags": []
   },
   "outputs": [
    {
     "data": {
      "text/html": [
       "<div>\n",
       "<style scoped>\n",
       "    .dataframe tbody tr th:only-of-type {\n",
       "        vertical-align: middle;\n",
       "    }\n",
       "\n",
       "    .dataframe tbody tr th {\n",
       "        vertical-align: top;\n",
       "    }\n",
       "\n",
       "    .dataframe thead th {\n",
       "        text-align: right;\n",
       "    }\n",
       "</style>\n",
       "<table border=\"1\" class=\"dataframe\">\n",
       "  <thead>\n",
       "    <tr style=\"text-align: right;\">\n",
       "      <th></th>\n",
       "      <th>sentiment</th>\n",
       "      <th>text</th>\n",
       "    </tr>\n",
       "  </thead>\n",
       "  <tbody>\n",
       "    <tr>\n",
       "      <th>0</th>\n",
       "      <td>negative</td>\n",
       "      <td>switchfoot   awww that bummer  shoulda got dav...</td>\n",
       "    </tr>\n",
       "    <tr>\n",
       "      <th>1</th>\n",
       "      <td>negative</td>\n",
       "      <td>upset cant updat facebook text might cri resul...</td>\n",
       "    </tr>\n",
       "    <tr>\n",
       "      <th>2</th>\n",
       "      <td>negative</td>\n",
       "      <td>kenichan dive mani time ball manag save   rest...</td>\n",
       "    </tr>\n",
       "    <tr>\n",
       "      <th>3</th>\n",
       "      <td>negative</td>\n",
       "      <td>whole bodi feel itchi like fire</td>\n",
       "    </tr>\n",
       "    <tr>\n",
       "      <th>4</th>\n",
       "      <td>negative</td>\n",
       "      <td>nationwideclass behav im mad cant see</td>\n",
       "    </tr>\n",
       "  </tbody>\n",
       "</table>\n",
       "</div>"
      ],
      "text/plain": [
       "  sentiment                                               text\n",
       "0  negative  switchfoot   awww that bummer  shoulda got dav...\n",
       "1  negative  upset cant updat facebook text might cri resul...\n",
       "2  negative  kenichan dive mani time ball manag save   rest...\n",
       "3  negative                   whole bodi feel itchi like fire \n",
       "4  negative             nationwideclass behav im mad cant see "
      ]
     },
     "execution_count": 8,
     "metadata": {},
     "output_type": "execute_result"
    }
   ],
   "source": [
    "stemmer = nltk.SnowballStemmer(\"english\")\n",
    "\n",
    "def stemm_text(text):\n",
    "    text = ' '.join(stemmer.stem(word) for word in text.split(' '))\n",
    "    return text\n",
    "\n",
    "data['text'] = data['text'].apply(stemm_text)\n",
    "data.head()"
   ]
  },
  {
   "cell_type": "markdown",
   "id": "096c7075",
   "metadata": {
    "papermill": {
     "duration": 0.00673,
     "end_time": "2023-03-06T14:14:58.711936",
     "exception": false,
     "start_time": "2023-03-06T14:14:58.705206",
     "status": "completed"
    },
    "tags": []
   },
   "source": [
    "### **Target Encoding**"
   ]
  },
  {
   "cell_type": "code",
   "execution_count": 9,
   "id": "bd9a9d7a",
   "metadata": {
    "execution": {
     "iopub.execute_input": "2023-03-06T14:14:58.727207Z",
     "iopub.status.busy": "2023-03-06T14:14:58.726347Z",
     "iopub.status.idle": "2023-03-06T14:14:59.018435Z",
     "shell.execute_reply": "2023-03-06T14:14:59.017538Z"
    },
    "papermill": {
     "duration": 0.301903,
     "end_time": "2023-03-06T14:14:59.020608",
     "exception": false,
     "start_time": "2023-03-06T14:14:58.718705",
     "status": "completed"
    },
    "tags": []
   },
   "outputs": [
    {
     "data": {
      "text/html": [
       "<div>\n",
       "<style scoped>\n",
       "    .dataframe tbody tr th:only-of-type {\n",
       "        vertical-align: middle;\n",
       "    }\n",
       "\n",
       "    .dataframe tbody tr th {\n",
       "        vertical-align: top;\n",
       "    }\n",
       "\n",
       "    .dataframe thead th {\n",
       "        text-align: right;\n",
       "    }\n",
       "</style>\n",
       "<table border=\"1\" class=\"dataframe\">\n",
       "  <thead>\n",
       "    <tr style=\"text-align: right;\">\n",
       "      <th></th>\n",
       "      <th>sentiment</th>\n",
       "      <th>text</th>\n",
       "    </tr>\n",
       "  </thead>\n",
       "  <tbody>\n",
       "    <tr>\n",
       "      <th>0</th>\n",
       "      <td>0</td>\n",
       "      <td>switchfoot   awww that bummer  shoulda got dav...</td>\n",
       "    </tr>\n",
       "    <tr>\n",
       "      <th>1</th>\n",
       "      <td>0</td>\n",
       "      <td>upset cant updat facebook text might cri resul...</td>\n",
       "    </tr>\n",
       "    <tr>\n",
       "      <th>2</th>\n",
       "      <td>0</td>\n",
       "      <td>kenichan dive mani time ball manag save   rest...</td>\n",
       "    </tr>\n",
       "    <tr>\n",
       "      <th>3</th>\n",
       "      <td>0</td>\n",
       "      <td>whole bodi feel itchi like fire</td>\n",
       "    </tr>\n",
       "    <tr>\n",
       "      <th>4</th>\n",
       "      <td>0</td>\n",
       "      <td>nationwideclass behav im mad cant see</td>\n",
       "    </tr>\n",
       "  </tbody>\n",
       "</table>\n",
       "</div>"
      ],
      "text/plain": [
       "   sentiment                                               text\n",
       "0          0  switchfoot   awww that bummer  shoulda got dav...\n",
       "1          0  upset cant updat facebook text might cri resul...\n",
       "2          0  kenichan dive mani time ball manag save   rest...\n",
       "3          0                   whole bodi feel itchi like fire \n",
       "4          0             nationwideclass behav im mad cant see "
      ]
     },
     "execution_count": 9,
     "metadata": {},
     "output_type": "execute_result"
    }
   ],
   "source": [
    "from sklearn.preprocessing import LabelEncoder\n",
    "\n",
    "a = LabelEncoder()\n",
    "a.fit(data['sentiment'])\n",
    "\n",
    "data['sentiment'] = a.transform(data['sentiment'])\n",
    "data.head()"
   ]
  },
  {
   "cell_type": "markdown",
   "id": "752477d6",
   "metadata": {
    "papermill": {
     "duration": 0.006795,
     "end_time": "2023-03-06T14:14:59.034791",
     "exception": false,
     "start_time": "2023-03-06T14:14:59.027996",
     "status": "completed"
    },
    "tags": []
   },
   "source": [
    "### **Split data set**"
   ]
  },
  {
   "cell_type": "code",
   "execution_count": 10,
   "id": "9a224f2d",
   "metadata": {
    "execution": {
     "iopub.execute_input": "2023-03-06T14:14:59.050151Z",
     "iopub.status.busy": "2023-03-06T14:14:59.049862Z",
     "iopub.status.idle": "2023-03-06T14:14:59.325416Z",
     "shell.execute_reply": "2023-03-06T14:14:59.324431Z"
    },
    "papermill": {
     "duration": 0.286437,
     "end_time": "2023-03-06T14:14:59.328134",
     "exception": false,
     "start_time": "2023-03-06T14:14:59.041697",
     "status": "completed"
    },
    "tags": []
   },
   "outputs": [],
   "source": [
    "from sklearn.model_selection import train_test_split\n",
    "x = data['text']\n",
    "y = data['sentiment']\n",
    "x_train, x_test, y_train, y_test = train_test_split(x, y, random_state=42)"
   ]
  },
  {
   "cell_type": "markdown",
   "id": "e7ecab71",
   "metadata": {
    "papermill": {
     "duration": 0.006872,
     "end_time": "2023-03-06T14:14:59.342409",
     "exception": false,
     "start_time": "2023-03-06T14:14:59.335537",
     "status": "completed"
    },
    "tags": []
   },
   "source": [
    "### **TF-IDF Vectorizer**\n",
    "TF-IDF stands for term frequency-inverse document frequency. It is a numerical statistic that is used to reflect how important a word is to a document in a collection or corpus of documents. It is a widely used model in information retrieval and text mining to measure the relevance of a word to a document.The main idea behind the TF-IDF model is to give more weight to words that appear frequently in a document but rarely in the corpus. This is done by computing two values:\n",
    "\n",
    "Term Frequency (TF): The number of times a term appears in a document. A term that appears frequently in a document is likely to be important to the meaning of that document.\n",
    "\n",
    "Inverse Document Frequency (IDF): The logarithmically scaled inverse fraction of the number of documents that contain the word. A term that appears in many documents is likely to be less important than a term that appears in only a few documents.\n"
   ]
  },
  {
   "cell_type": "code",
   "execution_count": 11,
   "id": "70ee039c",
   "metadata": {
    "execution": {
     "iopub.execute_input": "2023-03-06T14:14:59.357545Z",
     "iopub.status.busy": "2023-03-06T14:14:59.357222Z",
     "iopub.status.idle": "2023-03-06T14:16:07.573542Z",
     "shell.execute_reply": "2023-03-06T14:16:07.572484Z"
    },
    "papermill": {
     "duration": 68.22664,
     "end_time": "2023-03-06T14:16:07.576058",
     "exception": false,
     "start_time": "2023-03-06T14:14:59.349418",
     "status": "completed"
    },
    "tags": []
   },
   "outputs": [],
   "source": [
    "from sklearn.feature_extraction.text import TfidfVectorizer\n",
    "vectoriser = TfidfVectorizer(ngram_range=(1,2),max_features=3891472)\n",
    "vectoriser.fit(x_train)\n",
    "\n",
    "x_train = vectoriser.transform(x_train)\n",
    "x_test  = vectoriser.transform(x_test)\n",
    "#print('No. of feature_words: ', len(vectoriser.get_feature_names()))"
   ]
  },
  {
   "cell_type": "markdown",
   "id": "ae2502cd",
   "metadata": {
    "papermill": {
     "duration": 0.007007,
     "end_time": "2023-03-06T14:16:07.590645",
     "exception": false,
     "start_time": "2023-03-06T14:16:07.583638",
     "status": "completed"
    },
    "tags": []
   },
   "source": [
    "### **Logistic Regression Model**\n",
    "Logistic regression is a type of classification algorithm used in natural language processing (NLP) for text classification tasks. In text classification, the goal is to predict the category or label of a given text document"
   ]
  },
  {
   "cell_type": "code",
   "execution_count": 12,
   "id": "e3e61e68",
   "metadata": {
    "execution": {
     "iopub.execute_input": "2023-03-06T14:16:07.606321Z",
     "iopub.status.busy": "2023-03-06T14:16:07.605398Z",
     "iopub.status.idle": "2023-03-06T14:18:08.980050Z",
     "shell.execute_reply": "2023-03-06T14:18:08.978728Z"
    },
    "papermill": {
     "duration": 121.386416,
     "end_time": "2023-03-06T14:18:08.983932",
     "exception": false,
     "start_time": "2023-03-06T14:16:07.597516",
     "status": "completed"
    },
    "tags": []
   },
   "outputs": [
    {
     "name": "stderr",
     "output_type": "stream",
     "text": [
      "/opt/conda/lib/python3.7/site-packages/sklearn/linear_model/_logistic.py:818: ConvergenceWarning: lbfgs failed to converge (status=1):\n",
      "STOP: TOTAL NO. of ITERATIONS REACHED LIMIT.\n",
      "\n",
      "Increase the number of iterations (max_iter) or scale the data as shown in:\n",
      "    https://scikit-learn.org/stable/modules/preprocessing.html\n",
      "Please also refer to the documentation for alternative solver options:\n",
      "    https://scikit-learn.org/stable/modules/linear_model.html#logistic-regression\n",
      "  extra_warning_msg=_LOGISTIC_SOLVER_CONVERGENCE_MSG,\n"
     ]
    },
    {
     "name": "stdout",
     "output_type": "stream",
     "text": [
      "Test accuracy: 0.7971\n",
      "              precision    recall  f1-score   support\n",
      "\n",
      "           0       0.80      0.79      0.80    199581\n",
      "           1       0.80      0.80      0.80    200419\n",
      "\n",
      "    accuracy                           0.80    400000\n",
      "   macro avg       0.80      0.80      0.80    400000\n",
      "weighted avg       0.80      0.80      0.80    400000\n",
      "\n"
     ]
    }
   ],
   "source": [
    "from sklearn.linear_model import LogisticRegression\n",
    "model = LogisticRegression()\n",
    "model.fit(x_train, y_train)\n",
    "\n",
    "\n",
    "y_pred = model.predict(x_test)\n",
    "accuracy = accuracy_score(y_test, y_pred)\n",
    "print(f\"Test accuracy: {accuracy:.4f}\")\n",
    "print(classification_report(y_test, y_pred))\n"
   ]
  },
  {
   "cell_type": "markdown",
   "id": "806c175a",
   "metadata": {
    "papermill": {
     "duration": 0.007749,
     "end_time": "2023-03-06T14:18:09.000753",
     "exception": false,
     "start_time": "2023-03-06T14:18:08.993004",
     "status": "completed"
    },
    "tags": []
   },
   "source": [
    "### **Confusion Matrix**\n",
    "We use confusion metrics to see the performance of classification algorithm. Confusion matrics represent the value of true positive(tp), false positive(fp) ,true negative(tn) and false negative(fn)."
   ]
  },
  {
   "cell_type": "code",
   "execution_count": 13,
   "id": "c2fcd779",
   "metadata": {
    "execution": {
     "iopub.execute_input": "2023-03-06T14:18:09.016925Z",
     "iopub.status.busy": "2023-03-06T14:18:09.016536Z",
     "iopub.status.idle": "2023-03-06T14:18:09.297004Z",
     "shell.execute_reply": "2023-03-06T14:18:09.296053Z"
    },
    "papermill": {
     "duration": 0.290918,
     "end_time": "2023-03-06T14:18:09.298959",
     "exception": false,
     "start_time": "2023-03-06T14:18:09.008041",
     "status": "completed"
    },
    "tags": []
   },
   "outputs": [
    {
     "data": {
      "text/plain": [
       "<AxesSubplot:>"
      ]
     },
     "execution_count": 13,
     "metadata": {},
     "output_type": "execute_result"
    },
    {
     "data": {
      "image/png": "[encoded data removed]",
      "text/plain": [
       "<Figure size 432x288 with 2 Axes>"
      ]
     },
     "metadata": {
      "needs_background": "light"
     },
     "output_type": "display_data"
    }
   ],
   "source": [
    "from sklearn.metrics import accuracy_score ,confusion_matrix, classification_report\n",
    "confution_lg = confusion_matrix(y_test, y_pred) #confusion metrics\n",
    "sns.heatmap(confution_lg, linewidths=0.01, annot=True,fmt= '.1f', color='red') #heat map"
   ]
  },
  {
   "cell_type": "markdown",
   "id": "467c784c",
   "metadata": {
    "papermill": {
     "duration": 0.007253,
     "end_time": "2023-03-06T14:18:09.313786",
     "exception": false,
     "start_time": "2023-03-06T14:18:09.306533",
     "status": "completed"
    },
    "tags": []
   },
   "source": [
    "### **Prediction**"
   ]
  },
  {
   "cell_type": "code",
   "execution_count": 14,
   "id": "0f18ea5d",
   "metadata": {
    "execution": {
     "iopub.execute_input": "2023-03-06T14:18:09.331134Z",
     "iopub.status.busy": "2023-03-06T14:18:09.329460Z",
     "iopub.status.idle": "2023-03-06T14:18:09.376886Z",
     "shell.execute_reply": "2023-03-06T14:18:09.375712Z"
    },
    "papermill": {
     "duration": 0.058462,
     "end_time": "2023-03-06T14:18:09.379547",
     "exception": false,
     "start_time": "2023-03-06T14:18:09.321085",
     "status": "completed"
    },
    "tags": []
   },
   "outputs": [
    {
     "data": {
      "text/plain": [
       "array([0])"
      ]
     },
     "execution_count": 14,
     "metadata": {},
     "output_type": "execute_result"
    }
   ],
   "source": [
    "s = ['it is a bad question']\n",
    "s = vectoriser.transform(s)\n",
    "sentiment = model.predict(s)\n",
    "sentiment"
   ]
  },
  {
   "cell_type": "markdown",
   "id": "70988fc1",
   "metadata": {
    "papermill": {
     "duration": 0.007414,
     "end_time": "2023-03-06T14:18:09.395144",
     "exception": false,
     "start_time": "2023-03-06T14:18:09.387730",
     "status": "completed"
    },
    "tags": []
   },
   "source": [
    "### **Naive Bayes Model**"
   ]
  },
  {
   "cell_type": "code",
   "execution_count": 15,
   "id": "b4da0dee",
   "metadata": {
    "execution": {
     "iopub.execute_input": "2023-03-06T14:18:09.411889Z",
     "iopub.status.busy": "2023-03-06T14:18:09.410922Z",
     "iopub.status.idle": "2023-03-06T14:18:10.686353Z",
     "shell.execute_reply": "2023-03-06T14:18:10.683952Z"
    },
    "papermill": {
     "duration": 1.286967,
     "end_time": "2023-03-06T14:18:10.689436",
     "exception": false,
     "start_time": "2023-03-06T14:18:09.402469",
     "status": "completed"
    },
    "tags": []
   },
   "outputs": [
    {
     "name": "stdout",
     "output_type": "stream",
     "text": [
      "Test accuracy: 0.7825\n",
      "              precision    recall  f1-score   support\n",
      "\n",
      "           0       0.76      0.82      0.79    199581\n",
      "           1       0.81      0.74      0.77    200419\n",
      "\n",
      "    accuracy                           0.78    400000\n",
      "   macro avg       0.78      0.78      0.78    400000\n",
      "weighted avg       0.78      0.78      0.78    400000\n",
      "\n"
     ]
    }
   ],
   "source": [
    "# Create a Multinomial Naive Bayes model\n",
    "from sklearn.naive_bayes import MultinomialNB\n",
    "nb = MultinomialNB()\n",
    "\n",
    "# Train the model\n",
    "nb.fit(x_train, y_train)\n",
    "# Evaluate the model on the test set\n",
    "y_p = nb.predict(x_test)\n",
    "accuracy = accuracy_score(y_test, y_p)\n",
    "print(f\"Test accuracy: {accuracy:.4f}\")\n",
    "print(classification_report(y_test, y_p))"
   ]
  },
  {
   "cell_type": "markdown",
   "id": "933ebc02",
   "metadata": {
    "papermill": {
     "duration": 0.007513,
     "end_time": "2023-03-06T14:18:10.705822",
     "exception": false,
     "start_time": "2023-03-06T14:18:10.698309",
     "status": "completed"
    },
    "tags": []
   },
   "source": [
    "### **Stochastic Gradient Descent**"
   ]
  },
  {
   "cell_type": "code",
   "execution_count": 16,
   "id": "d4ac9ad2",
   "metadata": {
    "execution": {
     "iopub.execute_input": "2023-03-06T14:18:10.722331Z",
     "iopub.status.busy": "2023-03-06T14:18:10.721993Z",
     "iopub.status.idle": "2023-03-06T14:18:14.271070Z",
     "shell.execute_reply": "2023-03-06T14:18:14.267457Z"
    },
    "papermill": {
     "duration": 3.562671,
     "end_time": "2023-03-06T14:18:14.276031",
     "exception": false,
     "start_time": "2023-03-06T14:18:10.713360",
     "status": "completed"
    },
    "tags": []
   },
   "outputs": [
    {
     "name": "stdout",
     "output_type": "stream",
     "text": [
      "test accuracy score of Stochastic Gradient Descent =  75.63775\n"
     ]
    }
   ],
   "source": [
    "from sklearn.linear_model import SGDClassifier\n",
    "sgd = SGDClassifier()\n",
    "sgd.fit(x_train, y_train)\n",
    "pred = sgd.predict(x_test)\n",
    "print(\"test accuracy score of Stochastic Gradient Descent = \", accuracy_score(y_test, pred)*100)"
   ]
  }
 ],
 "metadata": {
  "kernelspec": {
   "display_name": "Python 3 (ipykernel)",
   "language": "python",
   "name": "python3"
  },
  "language_info": {
   "codemirror_mode": {
    "name": "ipython",
    "version": 3
   },
   "file_extension": ".py",
   "mimetype": "text/x-python",
   "name": "python",
   "nbconvert_exporter": "python",
   "pygments_lexer": "ipython3",
   "version": "3.9.13"
  },
  "papermill": {
   "default_parameters": {},
   "duration": 466.487354,
   "end_time": "2023-03-06T14:18:17.019312",
   "environment_variables": {},
   "exception": null,
   "input_path": "__notebook__.ipynb",
   "output_path": "__notebook__.ipynb",
   "parameters": {},
   "start_time": "2023-03-06T14:10:30.531958",
   "version": "2.3.4"
  }
 },
 "nbformat": 4,
 "nbformat_minor": 5
}
